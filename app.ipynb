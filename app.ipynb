# Cell 1
```python
!pip install langchain
!pip install openai

import streamlit as st
from langchain.document_loaders import UnstructuredURLLoader
from langchain.chains.summarize import load_summarize_chain
from langchain.llms import OpenAI
from langchain.text_splitter import RecursiveCharacterTextSplitter
from langchain.prompts import PromptTemplate

# Initialize the necessary classes
url_loader = UnstructuredURLLoader()
text_splitter = RecursiveCharacterTextSplitter()
map_prompt = PromptTemplate("{content}\nSummarize:")
combine_prompt = PromptTemplate("{summaries}\nGenerate an outreach email based on the above:")
summarize_chain = load_summarize_chain()

# Create Streamlit interface
st.title("Personalized Outreach Generator")

api_key = st.text_input("Enter your OpenAI API Key")
source_url = st.text_input("Enter the source URL (LinkedIn profile, tweets, or blog posts)")

if st.button("Generate"):
    if api_key and source_url:
        lang_model = OpenAI(api_key)
        
        # Load and prepare the data
        documents = url_loader.load([source_url])
        documents = text_splitter.split(documents)

        # Generate the personalized outreach email
        email = summarize_chain.execute(documents, lang_model, map_prompt, combine_prompt)
        
        st.write(email)
    else:
        st.write("Please provide both the API key and source URL.")


When you paste this into a new `.ipynb` file, each `# Cell` markdown heading will denote a new cell in the notebook. The Python code between the triple backticks (```) should be pasted into the corresponding cell.

Please note, however, that this might not work directly by copying and pasting. The `.ipynb` file format is a JSON-based format that includes additional metadata for each cell, and isn't designed to be created manually.

It would be much easier and more reliable to create a new Jupyter Notebook using the Jupyter Notebook interface, and then copy and paste the Python code into the cells of the notebook.
